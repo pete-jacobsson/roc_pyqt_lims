{
 "cells": [
  {
   "cell_type": "code",
   "execution_count": 155,
   "id": "ed61306d-4057-4a6b-97c4-283419f489c9",
   "metadata": {},
   "outputs": [],
   "source": [
    "from sqlalchemy import create_engine, inspect\n",
    "import json\n",
    "\n",
    "\n",
    "def return_one_column(db_keys, table, column):\n",
    "    \"\"\"\n",
    "    This function searches a postgres DB using SQLAlchemy and returns a single column as a python dictionary.\n",
    "    TODO: extend to allow filtering.\n",
    "\n",
    "    *Arguments*\n",
    "    - column (str): name of column to be selected\n",
    "    - table (str): name of the table to be selected\n",
    "    - db_keys (str): path to .json file containing the DB keys\n",
    "    - dict_name (str): name to be attributer to the dictionary, e.g. if it is \"Sample\", the dictionary returned by the function will be: {\"Sample\": [value_1, value_2, value_3]}\n",
    "\n",
    "    Returns:\n",
    "    - list: a list of column values   \n",
    "    \n",
    "    \"\"\"\n",
    "\n",
    "    # Get the leys\n",
    "    with open(db_keys, \"r\") as f:\n",
    "        keys_dict = json.load(f)\n",
    "\n",
    "    db_username = keys_dict[\"db_username\"]\n",
    "    db_password = keys_dict[\"db_password\"]\n",
    "    db_name = keys_dict[\"db_name\"]\n",
    "    db_host = keys_dict[\"db_host\"]\n",
    "    db_port = keys_dict[\"db_port\"]\n",
    "\n",
    "    connection_string = f\"postgresql://{db_username}:{db_password}@{db_host}:{db_port}/{db_name}\"\n",
    "    \n",
    "    engine = create_engine(connection_string)\n",
    "\n",
    "    query = text(f\"SELECT {column} FROM {table};\")\n",
    "\n",
    "    values = []\n",
    "    with engine.connect() as connection:\n",
    "        result = connection.execute(query)\n",
    "        # Extract the values from the result and return as a list\n",
    "        for row in result.fetchall():\n",
    "            values.append(row[0])\n",
    "\n",
    "    return values\n",
    "\n",
    "\n",
    "def collate_dropdowns(dropdown_inputs, db_keys):\n",
    "    \"\"\"\n",
    "    This method runs the return_one_column method to generate dictionary inputs for creating dropdowns\n",
    "    \n",
    "    *Args:*\n",
    "    - dropdown_inputs(list): a list of lists containing inputs for the return_one_column ordered as (table, column, dict_name)\n",
    "    - db_keys (str): path to the db keys used by the return_one_column\n",
    "\n",
    "    *Returns*\n",
    "    - dictionary: a dictionary consisting of each of the lists returned by return_one_column (e.g. {\"item1\": [\"value1\", \"value2\"], \"item2: [\"value1\", \"value2\"]}\n",
    "    \"\"\"\n",
    "\n",
    "    dropdown_config = {}\n",
    "    \n",
    "    for dropdown_input in dropdown_inputs:\n",
    "        values = return_one_column(db_keys, dropdown_input[0], dropdown_input[1])\n",
    "        dropdown_config[dropdown_input[2]] = values\n",
    "\n",
    "    return dropdown_config\n"
   ]
  },
  {
   "cell_type": "code",
   "execution_count": 156,
   "id": "a7bad3e9-677f-416d-be11-2374bb11da08",
   "metadata": {},
   "outputs": [
    {
     "name": "stdout",
     "output_type": "stream",
     "text": [
      "{'Research Group:': ['Hani', 'Algebra'], 'Operator:': ['Pete', 'Angus', 'Kostas'], 'Sample Identifier:': ['GLS123456', 'GLS123457'], 'Instrument:': ['an_sem', 'a_mass_spec'], 'Observation Type:': ['ImageObject', 'Dataset'], 'Project:': ['project_1', 'project_z']}\n",
      "{'Research Group:': ['Hani', 'Algebra'], 'Operator:': ['Pete', 'Angus', 'Kostas'], 'Sample Identifier:': ['GLS123456', 'GLS123457'], 'Instrument:': ['an_sem', 'a_mass_spec'], 'Observation Type:': ['ImageObject', 'Dataset'], 'Project:': ['project_1', 'project_z']}\n"
     ]
    }
   ],
   "source": [
    "db_keys = \"/home/pete/Documents/tests_and_vals/roc_pyqt_lims/db_keys.json\"\n",
    "with open(\"src/MetaCapturer_config.json\", \"r\") as f:  ### THIS WILL WANT TO BE ULTIMATELY REPLACED BY SOMETHING COMING DOWN THROUGH A LOGIN PAGE CONNECTED TO THE USER\n",
    "    config = json.load(f)\n",
    "\n",
    "dropdown_inputs = config[\"dropdown_inputs\"]\n",
    "\n",
    "test1 = collate_dropdowns(dropdown_inputs, db_keys)\n",
    "test2 = collate_dropdowns(dropdown_inputs, db_keys)\n",
    "\n",
    "print(test1)\n",
    "print(test2)\n"
   ]
  },
  {
   "cell_type": "code",
   "execution_count": null,
   "id": "642ae5e0-a892-4c5a-8498-1d21547311ec",
   "metadata": {},
   "outputs": [],
   "source": []
  }
 ],
 "metadata": {
  "kernelspec": {
   "display_name": "Python 3 (ipykernel)",
   "language": "python",
   "name": "python3"
  },
  "language_info": {
   "codemirror_mode": {
    "name": "ipython",
    "version": 3
   },
   "file_extension": ".py",
   "mimetype": "text/x-python",
   "name": "python",
   "nbconvert_exporter": "python",
   "pygments_lexer": "ipython3",
   "version": "3.12.3"
  }
 },
 "nbformat": 4,
 "nbformat_minor": 5
}
