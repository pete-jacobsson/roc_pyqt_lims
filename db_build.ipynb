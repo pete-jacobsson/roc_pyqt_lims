{
 "cells": [
  {
   "cell_type": "markdown",
   "id": "7a5dd00a-aa03-4fa5-8ea6-c74a128fef9b",
   "metadata": {},
   "source": [
    "# DB Build\n",
    "This notebook covers construction and stocking of the Postgres DB used to feed user/sample data to the MetaCapturer"
   ]
  },
  {
   "cell_type": "markdown",
   "id": "9d5fa14e-c6c3-4f69-8499-2f72f072aa5f",
   "metadata": {},
   "source": [
    "## V1 DB"
   ]
  },
  {
   "cell_type": "code",
   "execution_count": 45,
   "id": "01bd9833-9479-409c-b2fa-7b36c72d212a",
   "metadata": {},
   "outputs": [],
   "source": [
    "from sqlalchemy import create_engine, text, inspect"
   ]
  },
  {
   "cell_type": "code",
   "execution_count": 93,
   "id": "430bc530-ccba-42e3-a5d3-010681e62fbc",
   "metadata": {},
   "outputs": [],
   "source": [
    "db_username = \"pyqt_lims_devs\"\n",
    "db_password = \"NOPE\"\n",
    "db_name = \"pyqt_lims_database_v1\"\n",
    "db_host = \"localhost\"  # or the IP address of your Docker host\n",
    "db_port = \"54321\"  # the port you mapped in your Docker configuration\n",
    "\n",
    "connection_string = f\"postgresql://{db_username}:{db_password}@{db_host}:{db_port}/{db_name}\""
   ]
  },
  {
   "cell_type": "code",
   "execution_count": 94,
   "id": "90051f73-2ba8-4096-bb80-16f40a65f290",
   "metadata": {},
   "outputs": [],
   "source": [
    "engine = create_engine(connection_string)"
   ]
  },
  {
   "cell_type": "code",
   "execution_count": 95,
   "id": "f6d19804-c629-435e-b1c1-eecc226dc235",
   "metadata": {},
   "outputs": [
    {
     "name": "stdout",
     "output_type": "stream",
     "text": [
      "Error connecting to the database: (psycopg2.OperationalError) connection to server at \"188.155.85.67\", port 54321 failed: Connection timed out\n",
      "\tIs the server running on that host and accepting TCP/IP connections?\n",
      "\n",
      "(Background on this error at: https://sqlalche.me/e/20/e3q8)\n"
     ]
    }
   ],
   "source": [
    "try:\n",
    "    with engine.connect() as connection:\n",
    "        result = connection.execute(text(\"SELECT 1\"))\n",
    "        print(\"Connection successful!\")\n",
    "        \n",
    "        # Optionally, check if the database is empty (no tables)\n",
    "        inspector = inspect(engine)\n",
    "        if not inspector.get_table_names():\n",
    "            print(\"The database is empty (no tables).\")\n",
    "        else:\n",
    "            print(\"The database contains tables.\")\n",
    "            \n",
    "except Exception as e:\n",
    "    print(f\"Error connecting to the database: {e}\")\n",
    "\n"
   ]
  },
  {
   "cell_type": "code",
   "execution_count": 87,
   "id": "f56b6753-7e28-403c-93c2-7546e977ccf1",
   "metadata": {},
   "outputs": [
    {
     "name": "stdout",
     "output_type": "stream",
     "text": [
      "All tables dropped successfully.\n"
     ]
    }
   ],
   "source": [
    "### Table drop before re-build\n",
    "try:\n",
    "    # Create a MetaData instance\n",
    "    metadata = MetaData()\n",
    "    \n",
    "    # Reflect existing tables\n",
    "    metadata.reflect(bind=engine)\n",
    "    \n",
    "    # Drop all tables\n",
    "    metadata.drop_all(bind=engine)\n",
    "    \n",
    "    print(\"All tables dropped successfully.\")\n",
    "except:\n",
    "    print(\"nothing to drop\")\n"
   ]
  },
  {
   "cell_type": "code",
   "execution_count": 88,
   "id": "63727007-b951-4b93-8125-b68c7bf3a5ae",
   "metadata": {},
   "outputs": [
    {
     "name": "stdout",
     "output_type": "stream",
     "text": [
      "Tables created successfully.\n"
     ]
    }
   ],
   "source": [
    "from sqlalchemy import Table, Column, Integer, String, MetaData\n",
    "\n",
    "metadata = MetaData()\n",
    "\n",
    "# Define tables\n",
    "user_tab = Table('user_tab', metadata,\n",
    "    Column('user_id', Integer, primary_key=True, autoincrement=True),\n",
    "    Column('user_name', String(100))\n",
    ")\n",
    "\n",
    "rg_tab = Table('rg_tab', metadata,\n",
    "    Column('rg_id', Integer, primary_key=True, autoincrement=True),\n",
    "    Column('rg_name', String(100))\n",
    ")\n",
    "\n",
    "sample_tab = Table('sample_tab', metadata,\n",
    "    Column('sample_id', Integer, primary_key=True, autoincrement=True),\n",
    "    Column('sample_name', String(100)),\n",
    "    Column('sample_type', String(50))\n",
    ")\n",
    "\n",
    "instrument_tab = Table('instrument_tab', metadata,\n",
    "    Column('instrument_id', Integer, primary_key=True, autoincrement=True),\n",
    "    Column('instrument_name', String(100)),\n",
    "    Column('observation_type', String(100))\n",
    ")\n",
    "\n",
    "\n",
    "project_tab = Table('project_tab', metadata,\n",
    "    Column('project_id', Integer, primary_key=True, autoincrement=True),\n",
    "    Column('project_name', String(100)),\n",
    "    Column('meta_json_filepath', String(200))\n",
    ")\n",
    "\n",
    "\n",
    "\n",
    "# Create tables in the database\n",
    "metadata.create_all(engine)\n",
    "\n",
    "print(\"Tables created successfully.\")\n"
   ]
  },
  {
   "cell_type": "code",
   "execution_count": 89,
   "id": "2cfae7d7-c815-4ee7-a0ba-f33c10122e03",
   "metadata": {},
   "outputs": [
    {
     "name": "stdout",
     "output_type": "stream",
     "text": [
      "Tables in the database: ['user_tab', 'rg_tab', 'sample_tab', 'instrument_tab', 'project_tab']\n"
     ]
    }
   ],
   "source": [
    "inspector = inspect(engine)\n",
    "\n",
    "# Get the list of tables\n",
    "table_names = inspector.get_table_names()\n",
    "print(\"Tables in the database:\", table_names)"
   ]
  },
  {
   "cell_type": "code",
   "execution_count": 90,
   "id": "d801fe9c-e62e-4175-a054-150518a3182e",
   "metadata": {},
   "outputs": [
    {
     "name": "stdout",
     "output_type": "stream",
     "text": [
      "Inserted data successfully.\n",
      "Tables in the database: ['user_tab', 'rg_tab', 'sample_tab', 'instrument_tab', 'project_tab']\n"
     ]
    }
   ],
   "source": [
    "# Insert data into the users table\n",
    "from sqlalchemy.orm import sessionmaker\n",
    "\n",
    "# Create a session factory\n",
    "Session = sessionmaker(bind=engine)\n",
    "\n",
    "# Insert data into the users table\n",
    "try:\n",
    "    # Open a session\n",
    "    with Session() as session:\n",
    "        # Insert multiple rows\n",
    "        session.execute(user_tab.insert(), [\n",
    "            {'user_name': 'Pete'},\n",
    "            {'user_name': 'Angus'},\n",
    "            {'user_name': 'Kostas'}\n",
    "        ])\n",
    "        session.execute(rg_tab.insert(), [\n",
    "            {'rg_name': 'Hani'},\n",
    "            {'rg_name': 'Algebra'}\n",
    "        ])\n",
    "        session.execute(sample_tab.insert(), [\n",
    "            {'sample_name': 'GLS123456', 'sample_type': 'animal'},\n",
    "            {'sample_name': 'GLS123457', 'sample_type': 'mineral'}\n",
    "        ])\n",
    "        session.execute(project_tab.insert(), [\n",
    "            {'project_name': 'project_1', 'meta_json_filepath': \"/home/pete/Documents/tests_and_vals/roc_pyqt_lims/json_files/project_1.json\"},\n",
    "            {'project_name': 'project_z', 'meta_json_filepath': \"/home/pete/Documents/tests_and_vals/roc_pyqt_lims/json_files/project_z.json\"}\n",
    "        ])\n",
    "        session.execute(instrument_tab.insert(), [\n",
    "            {'instrument_name': 'an_sem', 'observation_type': \"ImageObject\"},\n",
    "            {'instrument_name': 'a_mass_spec', 'observation_type': \"Dataset\"}\n",
    "        ])\n",
    "        # Commit the transaction\n",
    "        session.commit()\n",
    "        print(\"Inserted data successfully.\")\n",
    "except Exception as e:\n",
    "    print(f\"Error occurred: {e}\")\n",
    "\n",
    "# Verify the tables\n",
    "inspector = inspect(engine)\n",
    "table_names = inspector.get_table_names()\n",
    "print(\"Tables in the database:\", table_names)\n"
   ]
  },
  {
   "cell_type": "code",
   "execution_count": 91,
   "id": "bd4e120b-c334-47fc-8e86-df1e37720d6c",
   "metadata": {},
   "outputs": [
    {
     "name": "stdout",
     "output_type": "stream",
     "text": [
      "   user_id user_name\n",
      "0        1      Pete\n",
      "1        2     Angus\n",
      "2        3    Kostas\n",
      "   rg_id  rg_name\n",
      "0      1     Hani\n",
      "1      2  Algebra\n",
      "   sample_id sample_name sample_type\n",
      "0          1   GLS123456      animal\n",
      "1          2   GLS123457     mineral\n",
      "   instrument_id instrument_name observation_type\n",
      "0              1          an_sem      ImageObject\n",
      "1              2     a_mass_spec          Dataset\n",
      "   project_id project_name                                 meta_json_filepath\n",
      "0           1    project_1  /home/pete/Documents/tests_and_vals/roc_pyqt_l...\n",
      "1           2    project_z  /home/pete/Documents/tests_and_vals/roc_pyqt_l...\n"
     ]
    }
   ],
   "source": [
    "import pandas as pd\n",
    "\n",
    "tab_names = ['user_tab', 'rg_tab', 'sample_tab', 'instrument_tab', 'project_tab']\n",
    "\n",
    "for tab in tab_names:\n",
    "    with engine.connect() as connection:\n",
    "        query = text(f\"SELECT * FROM {tab};\")\n",
    "        result = connection.execute(query)\n",
    "        \n",
    "        # Fetch all results and convert to a DataFrame\n",
    "        df = pd.DataFrame(result.fetchall(), columns=result.keys())\n",
    "        \n",
    "    print(df)"
   ]
  },
  {
   "cell_type": "code",
   "execution_count": null,
   "id": "b7c2ff05-42f8-47ba-aeec-fc42aefed1b6",
   "metadata": {},
   "outputs": [],
   "source": []
  }
 ],
 "metadata": {
  "kernelspec": {
   "display_name": "Python 3 (ipykernel)",
   "language": "python",
   "name": "python3"
  },
  "language_info": {
   "codemirror_mode": {
    "name": "ipython",
    "version": 3
   },
   "file_extension": ".py",
   "mimetype": "text/x-python",
   "name": "python",
   "nbconvert_exporter": "python",
   "pygments_lexer": "ipython3",
   "version": "3.12.3"
  }
 },
 "nbformat": 4,
 "nbformat_minor": 5
}
