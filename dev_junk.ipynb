{
 "cells": [
  {
   "cell_type": "code",
   "execution_count": 146,
   "id": "ed61306d-4057-4a6b-97c4-283419f489c9",
   "metadata": {},
   "outputs": [],
   "source": [
    "from sqlalchemy import create_engine, inspect\n",
    "import json\n",
    "\n",
    "\n",
    "def return_one_column(column, table, db_keys, dict_name = None):\n",
    "    \"\"\"\n",
    "    This function searches a postgres DB using SQLAlchemy and returns a single column as a python dictionary.\n",
    "    TODO: extend to allow filtering.\n",
    "\n",
    "    *Arguments*\n",
    "    - column (str): name of column to be selected\n",
    "    - table (str): name of the table to be selected\n",
    "    - db_keys (str): path to .json file containing the DB keys\n",
    "    - dict_name (str): name to be attributer to the dictionary, e.g. if it is \"Sample\", the dictionary returned by the function will be: {\"Sample\": [value_1, value_2, value_3]}\n",
    "\n",
    "    Returns:\n",
    "    - dictionary: a dictionary containing of dictionary name and column values   \n",
    "    \n",
    "    \"\"\"\n",
    "    # Set the end dict name\n",
    "    if dict_name is None:\n",
    "        dict_name = column\n",
    "\n",
    "    # Get the leys\n",
    "    with open(db_keys, \"r\") as f:\n",
    "        keys_dict = json.load(f)\n",
    "\n",
    "    db_username = keys_dict[\"db_username\"]\n",
    "    db_password = keys_dict[\"db_password\"]\n",
    "    db_name = keys_dict[\"db_name\"]\n",
    "    db_host = keys_dict[\"db_host\"]\n",
    "    db_port = keys_dict[\"db_port\"]\n",
    "\n",
    "    connection_string = f\"postgresql://{db_username}:{db_password}@{db_host}:{db_port}/{db_name}\"\n",
    "    \n",
    "    engine = create_engine(connection_string)\n",
    "\n",
    "    query = text(f\"SELECT {column} FROM {table};\")\n",
    "\n",
    "    values = []\n",
    "    with engine.connect() as connection:\n",
    "        result = connection.execute(query)\n",
    "        # Extract the values from the result and return as a list\n",
    "        for row in result.fetchall():\n",
    "            values.append(row[0])\n",
    "\n",
    "    outcome_dict = {dict_name: values}\n",
    "    return outcome_dict"
   ]
  },
  {
   "cell_type": "code",
   "execution_count": 147,
   "id": "a7bad3e9-677f-416d-be11-2374bb11da08",
   "metadata": {},
   "outputs": [
    {
     "name": "stdout",
     "output_type": "stream",
     "text": [
      "{'instrument_name': ['an_sem', 'a_mass_spec']}\n",
      "{'Instrument': ['an_sem', 'a_mass_spec']}\n"
     ]
    }
   ],
   "source": [
    "db_keys = \"/home/pete/Documents/tests_and_vals/roc_pyqt_lims/db_keys.json\"\n",
    "\n",
    "test1 = return_one_column(column = \"instrument_name\", table = \"instrument_tab\", db_keys = db_keys, dict_name = None)\n",
    "test2 = return_one_column(column = \"instrument_name\", table = \"instrument_tab\", db_keys = db_keys, dict_name = \"Instrument\")\n",
    "\n",
    "print(test1)\n",
    "print(test2)\n"
   ]
  },
  {
   "cell_type": "code",
   "execution_count": null,
   "id": "642ae5e0-a892-4c5a-8498-1d21547311ec",
   "metadata": {},
   "outputs": [],
   "source": []
  }
 ],
 "metadata": {
  "kernelspec": {
   "display_name": "Python 3 (ipykernel)",
   "language": "python",
   "name": "python3"
  },
  "language_info": {
   "codemirror_mode": {
    "name": "ipython",
    "version": 3
   },
   "file_extension": ".py",
   "mimetype": "text/x-python",
   "name": "python",
   "nbconvert_exporter": "python",
   "pygments_lexer": "ipython3",
   "version": "3.12.3"
  }
 },
 "nbformat": 4,
 "nbformat_minor": 5
}
